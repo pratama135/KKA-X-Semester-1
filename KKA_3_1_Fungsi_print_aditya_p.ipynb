{
  "nbformat": 4,
  "nbformat_minor": 0,
  "metadata": {
    "colab": {
      "provenance": [],
      "authorship_tag": "ABX9TyPXPhq4DfqR/M2qdDxuZwqF",
      "include_colab_link": true
    },
    "kernelspec": {
      "name": "python3",
      "display_name": "Python 3"
    },
    "language_info": {
      "name": "python"
    }
  },
  "cells": [
    {
      "cell_type": "markdown",
      "metadata": {
        "id": "view-in-github",
        "colab_type": "text"
      },
      "source": [
        "<a href=\"https://colab.research.google.com/github/pratama135/KKA-X-Semester-1/blob/main/KKA_3_1_Fungsi_print_aditya_p.ipynb\" target=\"_parent\"><img src=\"https://colab.research.google.com/assets/colab-badge.svg\" alt=\"Open In Colab\"/></a>"
      ]
    },
    {
      "cell_type": "markdown",
      "source": [
        "Nama: Aditya Pratama\n",
        "\n",
        "Kelas: X.8\n",
        "\n",
        "Nomor absen: 2"
      ],
      "metadata": {
        "id": "MIVfWmE7e7Tu"
      }
    },
    {
      "cell_type": "markdown",
      "source": [
        "#Menampilkan Teks Bebas"
      ],
      "metadata": {
        "id": "wkOUsdq7fjxu"
      }
    },
    {
      "cell_type": "code",
      "source": [
        "print(\"Hallo World!\")"
      ],
      "metadata": {
        "colab": {
          "base_uri": "https://localhost:8080/"
        },
        "id": "qFYFdRSKfIhu",
        "outputId": "4ce83a43-31c4-47fc-f66d-efda2fc8a4b0"
      },
      "execution_count": null,
      "outputs": [
        {
          "output_type": "stream",
          "name": "stdout",
          "text": [
            "Hallo World!\n"
          ]
        }
      ]
    },
    {
      "cell_type": "code",
      "source": [
        "print (\"Aditya pratama!\")"
      ],
      "metadata": {
        "colab": {
          "base_uri": "https://localhost:8080/"
        },
        "id": "2-TmtvDOhWO9",
        "outputId": "c8a111a2-a8d8-410c-8984-f557e074ebd3"
      },
      "execution_count": null,
      "outputs": [
        {
          "output_type": "stream",
          "name": "stdout",
          "text": [
            "Aditya pratama!\n"
          ]
        }
      ]
    },
    {
      "cell_type": "markdown",
      "source": [
        "#Menampilkan Nilai Variabel"
      ],
      "metadata": {
        "id": "nl7-fQABiEyf"
      }
    },
    {
      "cell_type": "code",
      "source": [
        "usia = 15\n",
        "\n",
        "print(usia)"
      ],
      "metadata": {
        "colab": {
          "base_uri": "https://localhost:8080/"
        },
        "id": "tkKAu8dCiNx2",
        "outputId": "73091dd8-832b-4009-9bae-6f93fed1bf29"
      },
      "execution_count": null,
      "outputs": [
        {
          "output_type": "stream",
          "name": "stdout",
          "text": [
            "15\n"
          ]
        }
      ]
    },
    {
      "cell_type": "code",
      "source": [
        "Nama = \"Aditya Pratama\"\n",
        "\n",
        "print(Nama)"
      ],
      "metadata": {
        "colab": {
          "base_uri": "https://localhost:8080/"
        },
        "id": "2OaScDr9jLSU",
        "outputId": "dd0527a4-b6c4-4587-ddc1-76aadecd0987"
      },
      "execution_count": null,
      "outputs": [
        {
          "output_type": "stream",
          "name": "stdout",
          "text": [
            "Aditya Pratama\n"
          ]
        }
      ]
    },
    {
      "cell_type": "code",
      "source": [
        "BB = 43\n",
        "\n",
        "print(BB)"
      ],
      "metadata": {
        "colab": {
          "base_uri": "https://localhost:8080/"
        },
        "id": "0ihKK6dZkAty",
        "outputId": "35f11d24-d352-4f42-8b30-022b3c485205"
      },
      "execution_count": null,
      "outputs": [
        {
          "output_type": "stream",
          "name": "stdout",
          "text": [
            "43\n"
          ]
        }
      ]
    },
    {
      "cell_type": "markdown",
      "source": [
        "#Menampilkan Teks Bebas dan Nilai Variabel"
      ],
      "metadata": {
        "id": "3PKH9cw9lIk6"
      }
    },
    {
      "cell_type": "code",
      "source": [
        "print(f\"Perkenalkan Nama Saya {Nama}.\")"
      ],
      "metadata": {
        "colab": {
          "base_uri": "https://localhost:8080/"
        },
        "id": "Bnk4UfxElOts",
        "outputId": "d6688e3d-cb30-4808-9d90-dacbee5c2597"
      },
      "execution_count": null,
      "outputs": [
        {
          "output_type": "stream",
          "name": "stdout",
          "text": [
            "Perkenalkan Nama Saya Aditya Pratama.\n"
          ]
        }
      ]
    },
    {
      "cell_type": "code",
      "source": [
        "print(f\"Berat Badan Saya {BB}KG.\")"
      ],
      "metadata": {
        "colab": {
          "base_uri": "https://localhost:8080/"
        },
        "id": "d0hzRLSDl6bd",
        "outputId": "42fcfe2a-b910-4a97-f39c-32a2dd5fc7c5"
      },
      "execution_count": null,
      "outputs": [
        {
          "output_type": "stream",
          "name": "stdout",
          "text": [
            "Berat Badan Saya 43KG.\n"
          ]
        }
      ]
    },
    {
      "cell_type": "code",
      "source": [
        "print(\"Perkenalkan Nama Saya \" + Nama)"
      ],
      "metadata": {
        "colab": {
          "base_uri": "https://localhost:8080/"
        },
        "id": "Vd1v7o6fm4Pw",
        "outputId": "9574d5fd-c509-4746-c95d-02e465291166"
      },
      "execution_count": null,
      "outputs": [
        {
          "output_type": "stream",
          "name": "stdout",
          "text": [
            "Perkenalkan Nama Saya Aditya Pratama\n"
          ]
        }
      ]
    },
    {
      "cell_type": "code",
      "source": [
        "print(\"Berat Badan Saya \" + str(BB)+\"KG.\")"
      ],
      "metadata": {
        "colab": {
          "base_uri": "https://localhost:8080/"
        },
        "id": "3FzxdA6unWD4",
        "outputId": "1616ebd1-a263-4e39-8ce8-2287d390a70a"
      },
      "execution_count": null,
      "outputs": [
        {
          "output_type": "stream",
          "name": "stdout",
          "text": [
            "Berat Badan Saya 43KG.\n"
          ]
        }
      ]
    },
    {
      "cell_type": "code",
      "source": [
        "print(\"Berat Badan Saya \" , BB , \"KG.\")"
      ],
      "metadata": {
        "colab": {
          "base_uri": "https://localhost:8080/"
        },
        "id": "409FB313oZp7",
        "outputId": "a5cca51d-01bc-482c-d18d-80de052057ea"
      },
      "execution_count": null,
      "outputs": [
        {
          "output_type": "stream",
          "name": "stdout",
          "text": [
            "Berat Badan Saya  43 KG.\n"
          ]
        }
      ]
    },
    {
      "cell_type": "markdown",
      "source": [
        "#Escape character"
      ],
      "metadata": {
        "id": "ja0HbW5zfgXX"
      }
    },
    {
      "cell_type": "code",
      "source": [
        "print(\"Nama: Aditya Pratama\\nKelas: X.8\\nNomor Absen: 2\")"
      ],
      "metadata": {
        "colab": {
          "base_uri": "https://localhost:8080/"
        },
        "id": "-sFORmt-fqTf",
        "outputId": "f431e1f6-2b50-4e77-f3b8-d474b36f99ac"
      },
      "execution_count": null,
      "outputs": [
        {
          "output_type": "stream",
          "name": "stdout",
          "text": [
            "Nama: Aditya Pratama\n",
            "Kelas: X.8\n",
            "Nomor Absen: 2\n"
          ]
        }
      ]
    },
    {
      "cell_type": "code",
      "source": [
        "print(\"\"\"Nama\\t\\t: Aditya Pratama\n",
        "Kelas\\t\\t: X.8\n",
        "Nomor Absen\\t: 2\"\"\")"
      ],
      "metadata": {
        "colab": {
          "base_uri": "https://localhost:8080/"
        },
        "id": "bS4nHhfBlVUb",
        "outputId": "dde6adb1-41c3-4f50-e19c-a1cddea707c9"
      },
      "execution_count": null,
      "outputs": [
        {
          "output_type": "stream",
          "name": "stdout",
          "text": [
            "Nama\t\t: Aditya Pratama\n",
            "Kelas\t\t: X.8\n",
            "Nomor Absen\t: 2\n"
          ]
        }
      ]
    },
    {
      "cell_type": "code",
      "source": [
        "print(\"Nama: Ja'far Sodiq\\nKelas: X.8\\nNomor Absen: 2\")"
      ],
      "metadata": {
        "colab": {
          "base_uri": "https://localhost:8080/"
        },
        "id": "FXkxDDa-l6pO",
        "outputId": "83ec984c-772c-4f6f-f4d5-b0d07890ca07"
      },
      "execution_count": null,
      "outputs": [
        {
          "output_type": "stream",
          "name": "stdout",
          "text": [
            "Nama: Ja'far Sodiq\n",
            "Kelas: X.8\n",
            "Nomor Absen: 2\n"
          ]
        }
      ]
    },
    {
      "cell_type": "code",
      "source": [
        "print('Nama: Ja\\'far Sodiq\\nKelas: X.8\\nNomor Absen: 2')"
      ],
      "metadata": {
        "colab": {
          "base_uri": "https://localhost:8080/"
        },
        "id": "kklC44RjmOme",
        "outputId": "504aad8f-1fbf-498a-fc25-3714288930e9"
      },
      "execution_count": null,
      "outputs": [
        {
          "output_type": "stream",
          "name": "stdout",
          "text": [
            "Nama: Ja'far Sodiq\n",
            "Kelas: X.8\n",
            "Nomor Absen: 2\n"
          ]
        }
      ]
    },
    {
      "cell_type": "code",
      "source": [
        "print(\"Lokasi File Tugas KKA: Local Disk C:\\\\KKA\\\\Tugas Aditya Pratama\")"
      ],
      "metadata": {
        "colab": {
          "base_uri": "https://localhost:8080/"
        },
        "id": "p9VTUXVlmi3C",
        "outputId": "783414d4-936b-465f-dfdc-a0b4452ca60a"
      },
      "execution_count": null,
      "outputs": [
        {
          "output_type": "stream",
          "name": "stdout",
          "text": [
            "Lokasi File Tugas KKA: Local Disk C:\\KKA\\Tugas Aditya Pratama\n"
          ]
        }
      ]
    },
    {
      "cell_type": "markdown",
      "source": [
        "#Parameter Fungsi()"
      ],
      "metadata": {
        "id": "OZCoGk6rqviw"
      }
    },
    {
      "cell_type": "code",
      "source": [
        "nama_depan = \"Aditya\"\n",
        "nama_belakang = \"Pratama\"\n",
        "\n",
        "print(nama_depan, end=\" \")\n",
        "print(nama_belakang)"
      ],
      "metadata": {
        "colab": {
          "base_uri": "https://localhost:8080/"
        },
        "id": "SpasVwkXrcUH",
        "outputId": "1b5e73ef-00d6-41a4-b06f-e69e90b85ac7"
      },
      "execution_count": null,
      "outputs": [
        {
          "output_type": "stream",
          "name": "stdout",
          "text": [
            "Aditya Pratama\n"
          ]
        }
      ]
    },
    {
      "cell_type": "code",
      "source": [
        "Tahun = 2025\n",
        "Bulan = \"Agustus\"\n",
        "Tanggal = 23\n",
        "\n",
        "print(Tahun, Bulan, Tanggal, sep=\"-\")"
      ],
      "metadata": {
        "colab": {
          "base_uri": "https://localhost:8080/"
        },
        "id": "sYmr1P2fq1Ca",
        "outputId": "88937d1b-e700-40a1-ac80-3965cb0ccaaf"
      },
      "execution_count": null,
      "outputs": [
        {
          "output_type": "stream",
          "name": "stdout",
          "text": [
            "2025-Agustus-23\n"
          ]
        }
      ]
    },
    {
      "cell_type": "code",
      "source": [
        "nama_siswa_1 = \"Dinda\"\n",
        "nama_siswa_2 = \"Aurin\"\n",
        "nama_siswa_3 = \"Lisaan\"\n",
        "\n",
        "print(nama_siswa_3, nama_siswa_2, nama_siswa_3, nama_siswa_1, sep='/')"
      ],
      "metadata": {
        "colab": {
          "base_uri": "https://localhost:8080/"
        },
        "id": "ycr-EWRNjwAF",
        "outputId": "f038d6e2-cdfe-4cb8-8067-29dfc55aaa42"
      },
      "execution_count": null,
      "outputs": [
        {
          "output_type": "stream",
          "name": "stdout",
          "text": [
            "Lisaan/Aurin/Lisaan/Dinda\n"
          ]
        }
      ]
    },
    {
      "cell_type": "code",
      "source": [
        "nama_siswa_4 = \"Azkal\"\n",
        "nama_siswa_5 = \"Hasim\"\n",
        "nama_siswa_6 = \"Chilmi\"\n",
        "nama_siswa_7 = \"Nova\"\n",
        "\n",
        "print(nama_siswa_6, end=\"~\")\n",
        "print(nama_siswa_4)\n",
        "\n",
        "print(nama_siswa_5, end=\"-\")\n",
        "print(nama_siswa_7)\n",
        "\n",
        "print(nama_siswa_4, end=\"/\")\n",
        "print(nama_siswa_7, end=\"&\")\n",
        "print(nama_siswa_5)"
      ],
      "metadata": {
        "colab": {
          "base_uri": "https://localhost:8080/"
        },
        "id": "P3Cf6FWEoegh",
        "outputId": "402475e6-6dca-4506-8cb0-f7f2cbcdf9ff"
      },
      "execution_count": null,
      "outputs": [
        {
          "output_type": "stream",
          "name": "stdout",
          "text": [
            "Chilmi~Azkal\n",
            "Hasim-Nova\n",
            "Azkal/Nova&Hasim\n"
          ]
        }
      ]
    }
  ]
}